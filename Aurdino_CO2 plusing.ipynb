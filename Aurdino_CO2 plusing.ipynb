{
 "cells": [
  {
   "cell_type": "code",
   "execution_count": null,
   "id": "215a8ee9",
   "metadata": {},
   "outputs": [],
   "source": [
    "// Waits for Microscope to send trigger then opens a relay for the correct amount of time. 2 triggers with different timings for each.\n",
    "\n",
    "// Define pin numbers\n",
    "const int Trigger1 = A0;\n",
    "const int Trigger2 = A1;\n",
    "const int Relay = 2;\n",
    "\n",
    "void setup() {\n",
    "  // Put your setup code here, to run once:\n",
    "  Serial.begin(9600);\n",
    "  pinMode(Trigger1, INPUT);\n",
    "  pinMode(Trigger2, INPUT);\n",
    "  pinMode(Relay, OUTPUT);\n",
    "  digitalWrite(Relay, LOW);\n",
    "}\n",
    "\n",
    "void loop() {\n",
    "  // Put your main code here, to run repeatedly:\n",
    "  digitalWrite(Relay, LOW);\n",
    "  \n",
    "  if (digitalRead(Trigger1) == HIGH) {\n",
    "    digitalWrite(Relay, HIGH);\n",
    "    delay(240000);\n",
    "    digitalWrite(Relay, LOW);\n",
    "  }\n",
    "  \n",
    "  if (digitalRead(Trigger2) == HIGH) {\n",
    "    digitalWrite(Relay, HIGH);\n",
    "    delay(420000);\n",
    "    digitalWrite(Relay, LOW);\n",
    "  }\n",
    "}"
   ]
  }
 ],
 "metadata": {
  "kernelspec": {
   "display_name": "Python 3 (ipykernel)",
   "language": "python",
   "name": "python3"
  },
  "language_info": {
   "codemirror_mode": {
    "name": "ipython",
    "version": 3
   },
   "file_extension": ".py",
   "mimetype": "text/x-python",
   "name": "python",
   "nbconvert_exporter": "python",
   "pygments_lexer": "ipython3",
   "version": "3.9.13"
  }
 },
 "nbformat": 4,
 "nbformat_minor": 5
}
